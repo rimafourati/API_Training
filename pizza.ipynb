{
 "cells": [
  {
   "cell_type": "markdown",
   "metadata": {},
   "source": [
    "# Domino's API\n",
    "### In this example, we'll use Domino's web API to find a local store, check its menu, and order some pizza. \n",
    "\n",
    "Thanks to [RIAEvangelist](https://github.com/RIAEvangelist) for compiling all of this information into a [node tool](https://github.com/RIAEvangelist/node-dominos-pizza-api) for ordering pizza.\n",
    "    "
   ]
  },
  {
   "cell_type": "code",
   "execution_count": null,
   "metadata": {},
   "outputs": [],
   "source": [
    "import requests  # this will do all the HTTPing for us\n",
    "import json\n",
    "import xmltodict\n",
    "import time\n",
    "\n",
    "\n",
    "# this is a popular data sciencing library - we're just using this to print the menu in a format we can read\n",
    "import pandas as pd \n",
    "\n",
    "# see the README or look at the settings.py file for more information.\n",
    "# if you want to use this, you'll need to enter your information into this.\n",
    "# !! ONLY DO THAT IF YOU'RE RUNNING A LOCAL COPY OF JUPYTER !!\n",
    "# !! DO NOT USE YOUR REAL INFO ON MYBINDER !!\n",
    "from settings import DEFINITELY_NOT_MY_CREDIT_CARD, MY_PERSONAL_INFO\n",
    "\n",
    "# !! SERIOUSLY! READ THE WARNING ABOVE !!"
   ]
  },
  {
   "cell_type": "code",
   "execution_count": null,
   "metadata": {},
   "outputs": [],
   "source": [
    "# Little helper function for pretty-printing JSON responses\n",
    "# this is not necessary but useful for demonstration purposes\n",
    "import pprint as PP\n",
    "pp = PP.PrettyPrinter(indent=2)\n",
    "pprint = pp.pprint"
   ]
  },
  {
   "cell_type": "code",
   "execution_count": null,
   "metadata": {},
   "outputs": [],
   "source": [
    "# API urls\n",
    "BASE_URL = 'https://order.dominos.com/power/'  # !!!! use HTTPS -- you'll be sending CC info over this\n",
    "STORE_FINDER_URL = BASE_URL + 'store-locator'\n",
    "STORE_INFO_URL = BASE_URL + 'store/{store_id}/profile'\n",
    "STORE_MENU_URL = BASE_URL + 'store/{store_id}/menu'\n",
    "\n",
    "PRICE_ORDER_URL = BASE_URL + 'price-order'\n",
    "PLACE_ORDER_URL = BASE_URL + 'place-order'\n",
    "VALIDATE_ORDER_URL = BASE_URL + 'validate-order'"
   ]
  },
  {
   "cell_type": "code",
   "execution_count": null,
   "metadata": {},
   "outputs": [],
   "source": [
    "# Before we begin, we need to have our own information to send to domino's.  So they can find us.\n",
    "me = MY_PERSONAL_INFO\n",
    "pprint(me)"
   ]
  },
  {
   "cell_type": "code",
   "execution_count": null,
   "metadata": {},
   "outputs": [],
   "source": [
    "# The store-locator endpoint takes 3 parameters\n",
    "# `s`: address part 1\n",
    "# `c`: address part 2\n",
    "# `t`: type ('Delivery' | 'Carryout')\n",
    "\n",
    "# we just need the first address part\n",
    "my_params = {\n",
    "    's': me['address'],\n",
    "    't': 'Delivery'\n",
    "}\n",
    "\n",
    "r = requests.get(STORE_FINDER_URL, params=my_params)"
   ]
  },
  {
   "cell_type": "code",
   "execution_count": null,
   "metadata": {
    "scrolled": true
   },
   "outputs": [],
   "source": [
    "response_data = r.json()\n",
    "pprint(response_data)"
   ]
  },
  {
   "cell_type": "code",
   "execution_count": null,
   "metadata": {},
   "outputs": [],
   "source": [
    "# That gives us a lot of stores so let's just look at the first(closest) one.\n",
    "my_store = response_data['Stores'][0]\n",
    "pprint(my_store)"
   ]
  },
  {
   "cell_type": "code",
   "execution_count": null,
   "metadata": {},
   "outputs": [],
   "source": [
    "# Looking through that information, this seems like the right store.  We'll use its `StoreID` going forward.\n",
    "store_id = my_store['StoreID']\n",
    "store_id"
   ]
  },
  {
   "cell_type": "code",
   "execution_count": null,
   "metadata": {},
   "outputs": [],
   "source": [
    "r = requests.get(STORE_MENU_URL.format(store_id=store_id))\n",
    "menu = r.json()\n",
    "pprint(menu)"
   ]
  },
  {
   "cell_type": "code",
   "execution_count": null,
   "metadata": {},
   "outputs": [],
   "source": [
    "data = menu['Products']['Data']\n",
    "data[0]"
   ]
  },
  {
   "cell_type": "code",
   "execution_count": null,
   "metadata": {},
   "outputs": [],
   "source": [
    "# There's a crap-load of items in that menu, so let's filter it -- and use pandas to make it easier to read\n",
    "\n",
    "# The `Products` table headings from Domino's JSON response\n",
    "headings = menu['Products']['Columns']\n",
    "\n",
    "# The `Products` table data\n",
    "data = menu['Products']['Data']\n",
    "\n",
    "# Put it all into a pandas dataframe\n",
    "products = pd.DataFrame(data, columns=headings)\n",
    "\n",
    "# and filter where the Category is 'Pizza'\n",
    "products"
   ]
  },
  {
   "cell_type": "code",
   "execution_count": null,
   "metadata": {},
   "outputs": [],
   "source": [
    "# The `Options` table headings from Domino's JSON response\n",
    "headings = menu['Options']['Columns']\n",
    "\n",
    "# The `Options` table data\n",
    "data = menu['Options']['Data']\n",
    "\n",
    "# Put it all into a pandas dataframe\n",
    "options = pd.DataFrame(data, columns=headings)\n",
    "\n",
    "# and filter where the Category is 'Pizza'\n",
    "options[options['CategoryCode'] == 'Pizza']"
   ]
  },
  {
   "cell_type": "code",
   "execution_count": null,
   "metadata": {},
   "outputs": [],
   "source": [
    "\n",
    "my_order = {\n",
    "    # My info\n",
    "    'FirstName': me['firstName'],\n",
    "    'LastName': me['lastName'],\n",
    "    'Email': me['email'],\n",
    "    'Phone': me['phone'],\n",
    "     'Address' : {\n",
    "        'Street': '3343 Forbes Ave',\n",
    "        'City': 'Pittsburgh',\n",
    "        'Region': 'PA',\n",
    "        'PostalCode': '15213'\n",
    "    },\n",
    "    #Store info\n",
    "    'StoreID': store_id,\n",
    "    'ServiceMethod': 'Delivery',\n",
    "    \n",
    "    # Products\n",
    "    'Products': [\n",
    "        {\n",
    "            'Code':'P12IRECZ',\n",
    "            'Options': {},\n",
    "            'Quantity': 1\n",
    "        }\n",
    "    ]\n",
    "}\n",
    "\n",
    "r = requests.post(VALIDATE_ORDER_URL, json={'Order': {**my_order}})\n",
    "pprint(r.json())"
   ]
  },
  {
   "cell_type": "code",
   "execution_count": null,
   "metadata": {},
   "outputs": [],
   "source": [
    "r = requests.post(PRICE_ORDER_URL, json={'Order': my_order})\n",
    "price_data = r.json()\n",
    "price_data\n",
    "price = price_data['Order']['Amounts']['Customer']\n",
    "price"
   ]
  },
  {
   "cell_type": "code",
   "execution_count": null,
   "metadata": {},
   "outputs": [],
   "source": [
    "DEFINITELY_NOT_MY_CREDIT_CARD['Amount'] = price\n",
    "DEFINITELY_NOT_MY_CREDIT_CARD['Type'] = 'CreditCard'"
   ]
  },
  {
   "cell_type": "code",
   "execution_count": null,
   "metadata": {},
   "outputs": [],
   "source": [
    "my_order['Payments'] = [DEFINITELY_NOT_MY_CREDIT_CARD]\n",
    "r = requests.post(VALIDATE_ORDER_URL, json={'Order': my_order})\n",
    "test_validation = r.json()\n",
    "del test_validation['Order']['Payments']\n",
    "\n",
    "pprint(test_validation)"
   ]
  },
  {
   "cell_type": "code",
   "execution_count": null,
   "metadata": {},
   "outputs": [],
   "source": [
    "#r = requests.post(PLACE_ORDER_URL, json={'Order': my_order})\n",
    "order_response = r.json()\n",
    "order_id = order_response['Order']['OrderID']\n",
    "del order_response['Order']['Payments']\n",
    "order_response"
   ]
  },
  {
   "cell_type": "code",
   "execution_count": null,
   "metadata": {},
   "outputs": [],
   "source": [
    "r = requests.get('https://trkweb.dominos.com/orderstorage/GetTrackerData', params={'Phone': me['phone']})\n",
    "x = xmltodict.parse(r.text)\n",
    "pprint(x)"
   ]
  },
  {
   "cell_type": "code",
   "execution_count": null,
   "metadata": {},
   "outputs": [],
   "source": [
    "r = requests.get('https://trkweb.dominos.com/orderstorage/GetTrackerData', params={'Phone': me['phone']})\n",
    "x = xmltodict.parse(r.text)\n",
    "data = x['soap:Envelope']['soap:Body']['GetTrackerDataResponse']['OrderStatuses']['OrderStatus'][0]\n",
    "data"
   ]
  },
  {
   "cell_type": "code",
   "execution_count": null,
   "metadata": {},
   "outputs": [],
   "source": [
    "# These functions will help us track the order as it goes through Domino's system.\n",
    "\n",
    "def add_time(time, emoji):\n",
    "    '''Generates a line segment `time`//60 minutes long.'''\n",
    "    result = ''\n",
    "    if time:\n",
    "        result += emoji\n",
    "        for i in range(int(time) // 60):\n",
    "            result += '='\n",
    "    return result\n",
    "        \n",
    "def show_status(data):\n",
    "    '''Generates and prints a ASCII art timeline of our delivery's progress'''\n",
    "    result = ''\n",
    "    done = False\n",
    "    for stuff in [('MakeTimeSecs', '📱'), \n",
    "                  ('OvenTimeSecs', '🔥'), \n",
    "                  ('RackTimeSecs', '♨️'), \n",
    "                  ('OrderDeliveryTimeSecs', '🚘')]:\n",
    "        key, emoji = stuff\n",
    "        result += add_time(data[key], emoji)\n",
    "    if data['OrderStatus'] == 'Complete':\n",
    "        result += '😊'\n",
    "        done=True\n",
    "    print(result)\n",
    "    return done\n",
    "\n",
    "while not show_status(data):    # print our tracker and return `True` if the pizza is here.\n",
    "    # if it's not here, we wait 3 seconds\n",
    "    time.sleep(3)\n",
    "    \n",
    "    # and then update the tracking info\n",
    "    r = requests.get('https://trkweb.dominos.com/orderstorage/GetTrackerData', params={'Phone': me['phone']})\n",
    "    x = xmltodict.parse(r.text)\n",
    "    data = x['soap:Envelope']['soap:Body']['GetTrackerDataResponse']['OrderStatuses']['OrderStatus'][0]\n"
   ]
  },
  {
   "cell_type": "code",
   "execution_count": null,
   "metadata": {},
   "outputs": [],
   "source": []
  }
 ],
 "metadata": {
  "kernelspec": {
   "display_name": "Python 3",
   "language": "python",
   "name": "python3"
  },
  "language_info": {
   "codemirror_mode": {
    "name": "ipython",
    "version": 3
   },
   "file_extension": ".py",
   "mimetype": "text/x-python",
   "name": "python",
   "nbconvert_exporter": "python",
   "pygments_lexer": "ipython3",
   "version": "3.6.4"
  }
 },
 "nbformat": 4,
 "nbformat_minor": 2
}
